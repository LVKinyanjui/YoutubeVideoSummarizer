{
 "cells": [
  {
   "cell_type": "code",
   "execution_count": 1,
   "metadata": {},
   "outputs": [],
   "source": [
    "import gradio as gr\n",
    "\n",
    "from youtube_comments import main as get_comments\n",
    "from summarizer import summarize"
   ]
  },
  {
   "cell_type": "code",
   "execution_count": 2,
   "metadata": {},
   "outputs": [],
   "source": [
    "import re\n",
    "\n",
    "def extract_video_id(url: str) -> str:\n",
    "    \"\"\"\n",
    "    Extract the video ID from a YouTube url. This function supports the following patterns:\n",
    "    - https://youtube.com/watch?v={video_id}\n",
    "    - https://youtube.com/embed/{video_id}\n",
    "    - https://youtu.be/{video_id}\n",
    "    :param str url: A YouTube url containing a video id.\n",
    "    :return: The video id as a string.\n",
    "    \"\"\"\n",
    "    # Regular expression pattern to match YouTube video IDs\n",
    "    pattern = re.compile(r\"(?:(?:youtube\\.com\\/(?:watch\\?v=|embed\\/))|(?:youtu\\.be\\/))([\\w\\-]+)\")\n",
    "    match = pattern.search(url)\n",
    "    if match:\n",
    "        return match.group(1)\n",
    "    else:\n",
    "        print(\"Error: Invalid YouTube video link.\")\n",
    "        return \"\"\n"
   ]
  },
  {
   "cell_type": "code",
   "execution_count": 3,
   "metadata": {},
   "outputs": [
    {
     "data": {
      "text/plain": [
       "'<iframe width=\"863\" height=\"480\" src=https://www.youtube.com/embed/EngW7tLk6R8 title=\"YouTube video player\" frameborder=\"0\" allow=\"accelerometer; autoplay; clipboard-write; encrypted-media; gyroscope; picture-in-picture\" allowfullscreen></iframe>'"
      ]
     },
     "execution_count": 3,
     "metadata": {},
     "output_type": "execute_result"
    }
   ],
   "source": [
    "def convert_youtube_url_to_embeddable_iframe(url):\n",
    "    # Extract video id from URL\n",
    "    video_id = re.search(r'(?:v=|/)([0-9A-Za-z_-]{10}[048AEIMQUYcgkosw])', url)\n",
    "    if video_id:\n",
    "        url = f'https://www.youtube.com/embed/{video_id.group(1)}'\n",
    "\n",
    "        embed_html = f'<iframe width=\"863\" height=\"480\" src={url} title=\"YouTube video player\" frameborder=\"0\" allow=\"accelerometer; autoplay; clipboard-write; encrypted-media; gyroscope; picture-in-picture\" allowfullscreen></iframe>'\n",
    "        return embed_html\n",
    "    \n",
    "    else:\n",
    "        print(\"Invalid YouTube URL\")\n",
    "        return None\n",
    "    \n",
    "convert_youtube_url_to_embeddable_iframe(\"https://www.youtube.com/watch/EngW7tLk6R8\")"
   ]
  },
  {
   "cell_type": "code",
   "execution_count": 4,
   "metadata": {},
   "outputs": [],
   "source": [
    "def get_full_comment_data(url):\n",
    "    \"\"\"Avail all youtube comments text for a given video id. Meant to ensure this is exectuted only once\"\"\"\n",
    "    video_id = extract_video_id(url)\n",
    "    return get_comments(video_id)"
   ]
  },
  {
   "cell_type": "code",
   "execution_count": 10,
   "metadata": {},
   "outputs": [],
   "source": [
    "def chatter(query, history, comment_text):\n",
    "    \"\"\"Make the summarize function compatible with a gr.ChatInterface element.\"\"\"\n",
    "\n",
    "    user_instructions = f\"\"\"\n",
    "        This is a chat conversation between you, the AI and a user \\\n",
    "        You will be be provided with a history of the coversation thus far \\\n",
    "        as follows\n",
    "\n",
    "        History: {history}\n",
    "\n",
    "        and the current user query, also as follows,\n",
    "\n",
    "        User Query: {query}\n",
    "\n",
    "        Please answer the user query as truthfully as you can.\n",
    "\n",
    "    \"\"\"\n",
    "    return summarize(docs=comment_text, user_instructions=user_instructions)"
   ]
  },
  {
   "cell_type": "code",
   "execution_count": 17,
   "metadata": {},
   "outputs": [],
   "source": [
    "def issue_disclaimer():\n",
    "    return \"\"\"\n",
    "    <h2 align=\"center\"> Disclaimer </h2>\n",
    "    Before using **Summary** or **Chat with Your Videos**, please click Get all Comments. This will ensure there will be content to summarize\n",
    "    Otherwise Errors will result.\n",
    "    \"\"\""
   ]
  },
  {
   "cell_type": "code",
   "execution_count": 18,
   "metadata": {},
   "outputs": [
    {
     "name": "stdout",
     "output_type": "stream",
     "text": [
      "Running on local URL:  http://127.0.0.1:7866\n",
      "\n",
      "To create a public link, set `share=True` in `launch()`.\n"
     ]
    },
    {
     "data": {
      "text/html": [
       "<div><iframe src=\"http://127.0.0.1:7866/\" width=\"100%\" height=\"500\" allow=\"autoplay; camera; microphone; clipboard-read; clipboard-write;\" frameborder=\"0\" allowfullscreen></iframe></div>"
      ],
      "text/plain": [
       "<IPython.core.display.HTML object>"
      ]
     },
     "metadata": {},
     "output_type": "display_data"
    },
    {
     "data": {
      "text/plain": []
     },
     "execution_count": 18,
     "metadata": {},
     "output_type": "execute_result"
    }
   ],
   "source": [
    "\n",
    "\n",
    "with gr.Blocks(title=\"Youtube Video Comment Summarizer\") as app:\n",
    "    with gr.Tab(\"Upload Video\"):\n",
    "        video_link = gr.Textbox(\n",
    "            label=\"Youtube Video URL\",\n",
    "            placeholder=\"Please input the video URL to summarize \"\n",
    "            )\n",
    "\n",
    "        video_iframe = gr.HTML()\n",
    "        disclaimer = gr.Markdown(issue_disclaimer())\n",
    "        comments = gr.Button(\"Get all Comments\")\n",
    "        video_comments = gr.Markdown()\n",
    "\n",
    "        video_link.change(\n",
    "            fn=convert_youtube_url_to_embeddable_iframe,\n",
    "            inputs=video_link,\n",
    "            outputs=video_iframe\n",
    "            )\n",
    "        \n",
    "        comments.click(fn=get_full_comment_data, inputs=video_link, outputs=video_comments)\n",
    "\n",
    "    with gr.Tab(\"Summary\"):\n",
    "        video_summary = gr.Markdown(\n",
    "            label=\"Video Comment Summary\"\n",
    "        )\n",
    "\n",
    "        summary = gr.Button(\"Summarize\")\n",
    "        summary.click(fn=summarize, inputs=video_comments, outputs=video_summary)\n",
    "\n",
    "    with gr.Tab(\"Chat with Your Videos\"):\n",
    "        gr.ChatInterface(\n",
    "            fn=chatter,\n",
    "            additional_inputs=video_comments\n",
    "        )\n",
    "\n",
    "\n",
    "app.launch()"
   ]
  },
  {
   "cell_type": "code",
   "execution_count": null,
   "metadata": {},
   "outputs": [],
   "source": []
  }
 ],
 "metadata": {
  "kernelspec": {
   "display_name": "Python 3",
   "language": "python",
   "name": "python3"
  },
  "language_info": {
   "codemirror_mode": {
    "name": "ipython",
    "version": 3
   },
   "file_extension": ".py",
   "mimetype": "text/x-python",
   "name": "python",
   "nbconvert_exporter": "python",
   "pygments_lexer": "ipython3",
   "version": "3.10.4"
  }
 },
 "nbformat": 4,
 "nbformat_minor": 2
}
